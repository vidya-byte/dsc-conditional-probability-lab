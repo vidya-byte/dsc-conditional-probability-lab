{
 "cells": [
  {
   "cell_type": "markdown",
   "metadata": {},
   "source": [
    "# Conditional Probability - Lab\n",
    "\n",
    "## Introduction\n",
    "\n",
    "In order to be ready for real-world applications of probability, it is important to understand what happens when probabilities are not independent. Very often, the probability of a certain event depends on other events happening! Let's see how this all works in this lab.\n",
    "\n",
    "## Objectives\n",
    "\n",
    "You will be able to:\n",
    "\n",
    "* Differentiate between independent and dependent events\n",
    "* Use the multiplication rule to find the probability of the intersection of two events\n",
    "\n",
    "## Exercise 1\n",
    "A coin is tossed and a single 6-sided die is rolled. Find the probability of landing on the head side of the coin and rolling a 3 on the die."
   ]
  },
  {
   "cell_type": "code",
   "execution_count": 1,
   "metadata": {},
   "outputs": [
    {
     "data": {
      "text/plain": [
       "0.08333333333333333"
      ]
     },
     "execution_count": 1,
     "metadata": {},
     "output_type": "execute_result"
    }
   ],
   "source": [
    "# Your code here\n",
    "prob_heads = 1/2\n",
    "prob_three = 1/6\n",
    "\n",
    "# Combined probability of both events\n",
    "combined_probability = prob_heads * prob_three\n",
    "combined_probability\n"
   ]
  },
  {
   "cell_type": "markdown",
   "metadata": {},
   "source": [
    "## Exercise 2\n",
    "\n",
    "\n",
    "After conducting a survey, one of the outcomes was that 8 out of 10 of the survey subjects liked chocolate chip cookies. If three survey subjects are chosen at random **with replacement**, what is the probability that all three like chocolate chip cookies?"
   ]
  },
  {
   "cell_type": "code",
   "execution_count": 2,
   "metadata": {},
   "outputs": [
    {
     "data": {
      "text/plain": [
       "0.5120000000000001"
      ]
     },
     "execution_count": 2,
     "metadata": {},
     "output_type": "execute_result"
    }
   ],
   "source": [
    "# Your code here\n",
    "# Probability that a survey subject likes chocolate chip cookies\n",
    "prob_likes_cookies = 8 / 10\n",
    "# Calculate the probability that all three like chocolate chip cookies\n",
    "prob_all_like = prob_likes_cookies ** 3\n",
    "prob_all_like"
   ]
  },
  {
   "cell_type": "markdown",
   "metadata": {},
   "source": [
    "## Exercise 3\n",
    "70% of your friends like chocolate flavored ice cream, and 35% like chocolate AND like strawberry flavors.\n",
    "\n",
    "What percent of those who like chocolate also like strawberry?"
   ]
  },
  {
   "cell_type": "code",
   "execution_count": 3,
   "metadata": {},
   "outputs": [
    {
     "data": {
      "text/plain": [
       "50.0"
      ]
     },
     "execution_count": 3,
     "metadata": {},
     "output_type": "execute_result"
    }
   ],
   "source": [
    "# Your code here\n",
    "# Given probabilities\n",
    "prob_chocolate = 0.70  # 70%\n",
    "prob_chocolate_and_strawberry = 0.35  # 35%\n",
    "\n",
    "# Using the formula for conditional probability\n",
    "# P(Strawberry | Chocolate) = P(Chocolate and Strawberry) / P(Chocolate)\n",
    "prob_strawberry_given_chocolate = prob_chocolate_and_strawberry / prob_chocolate\n",
    "\n",
    "# Convert to percentage\n",
    "percent_strawberry_given_chocolate = prob_strawberry_given_chocolate * 100\n",
    "percent_strawberry_given_chocolate"
   ]
  },
  {
   "cell_type": "markdown",
   "metadata": {},
   "source": [
    "50% of your friends who like chocolate also like strawberry\n",
    "\n",
    "## Exercise 4\n",
    "What is the probability of drawing 2 consecutive aces from a deck of cards. "
   ]
  },
  {
   "cell_type": "code",
   "execution_count": 4,
   "metadata": {},
   "outputs": [
    {
     "data": {
      "text/plain": [
       "0.004524886877828055"
      ]
     },
     "execution_count": 4,
     "metadata": {},
     "output_type": "execute_result"
    }
   ],
   "source": [
    "# Your code here\n",
    "# Total number of cards\n",
    "total_cards = 52\n",
    "\n",
    "# Probability of drawing the first ace\n",
    "prob_first_ace = 4 / total_cards\n",
    "\n",
    "# Probability of drawing the second ace after the first ace has been drawn\n",
    "prob_second_ace = 3 / (total_cards - 1)\n",
    "\n",
    "# Total probability of drawing 2 consecutive aces\n",
    "total_probability = prob_first_ace * prob_second_ace\n",
    "total_probability"
   ]
  },
  {
   "cell_type": "markdown",
   "metadata": {},
   "source": [
    "## Exercise 5\n",
    "In a manufacturing factory that produces a certain product, there are 100 units of the product, 5 of which are defective. We pick three units from the 100 units at random. \n",
    "\n",
    "What is the probability that none of them are defective?\n",
    "Hint: Use the chain rule here!"
   ]
  },
  {
   "cell_type": "code",
   "execution_count": 5,
   "metadata": {},
   "outputs": [
    {
     "data": {
      "text/plain": [
       "0.8559987631416203"
      ]
     },
     "execution_count": 5,
     "metadata": {},
     "output_type": "execute_result"
    }
   ],
   "source": [
    "# Your code here\n",
    "# Total units and defective units\n",
    "total_units = 100\n",
    "defective_units = 5\n",
    "non_defective_units = total_units - defective_units\n",
    "\n",
    "# Probability of picking three non-defective units\n",
    "prob_first_non_defective = non_defective_units / total_units\n",
    "prob_second_non_defective = (non_defective_units - 1) / (total_units - 1)\n",
    "prob_third_non_defective = (non_defective_units - 2) / (total_units - 2)\n",
    "\n",
    "# Total probability of picking three non-defective units\n",
    "total_probability = (prob_first_non_defective *\n",
    "                     prob_second_non_defective *\n",
    "                     prob_third_non_defective)\n",
    "\n",
    "total_probability"
   ]
  },
  {
   "cell_type": "markdown",
   "metadata": {},
   "source": [
    "## Exercise 6\n",
    "\n",
    "Let's consider the example where 2 dice are thrown. Given that **at least one** of the die has come up on a number higher than 4, what is the probability that the sum is 8?\n",
    "\n",
    "Let $i,j$ be the numbers shown on the dice. The events $A$ and $B$ are described below:\n",
    "\n",
    "* **Event $A$ is when either $i$ or $j$ is 5 or 6** (keep an eye on either - or)\n",
    "* **Event $B$ is when $i + j = 8$**\n",
    "\n",
    "\n",
    "* What is the size of sample space $\\Omega$ ?\n",
    "* What is $P(A \\cap B)$ ?\n",
    "* What is $P(A)$ ?\n",
    "* Use above to calculate $P(B \\mid A)$"
   ]
  },
  {
   "cell_type": "code",
   "execution_count": 9,
   "metadata": {},
   "outputs": [
    {
     "name": "stdout",
     "output_type": "stream",
     "text": [
      "Size of sample space Ω: 36\n",
      "P(A ∩ B): 0.1111111111111111\n",
      "P(A): 0.5555555555555556\n",
      "P(B | A): 0.19999999999999998\n"
     ]
    }
   ],
   "source": [
    "# Your code here\n",
    "# Sample space (all outcomes of rolling two dice)\n",
    "sample_space = [(i, j) for i in range(1, 7) for j in range(1, 7)]\n",
    "\n",
    "# Event A: at least one die shows a number higher than 4\n",
    "event_A = [(i, j) for (i, j) in sample_space if i > 4 or j > 4]\n",
    "\n",
    "# Event B: the sum of the dice is 8\n",
    "event_B = [(i, j) for (i, j) in sample_space if i + j == 8]\n",
    "\n",
    "# Event A intersection B: outcomes that satisfy both A and B\n",
    "event_A_and_B = [(i, j) for (i, j) in event_A if i + j == 8]\n",
    "\n",
    "# Size of sample space Ω\n",
    "size_sample_space = len(sample_space)\n",
    "\n",
    "# Probability P(A ∩ B)\n",
    "P_A_and_B = len(event_A_and_B) / size_sample_space\n",
    "\n",
    "# Probability P(A)\n",
    "P_A = len(event_A) / size_sample_space\n",
    "\n",
    "# Probability P(B | A) = P(A ∩ B) / P(A)\n",
    "P_B_given_A = P_A_and_B / P_A if P_A > 0 else 0\n",
    "\n",
    "print(f\"Size of sample space Ω: {size_sample_space}\")\n",
    "print(f\"P(A ∩ B): {P_A_and_B}\")\n",
    "print(f\"P(A): {P_A}\")\n",
    "print(f\"P(B | A): {P_B_given_A}\")"
   ]
  },
  {
   "cell_type": "markdown",
   "metadata": {},
   "source": [
    "## Exercise 7\n",
    "\n",
    "Let's consider a credit card example. At a supermarket, customers are selected randomly, the store owner recorded whether costumers owned a Visa card (event A) or an Amex credit card (event B). Some customers own both cards.\n",
    "You can assume that:\n",
    "\n",
    "- $P(A)$ = 0.5\n",
    "- $P(B)$ = 0.4\n",
    "- both $A$ and $B$ = 0.25.\n",
    "\n",
    "\n",
    "With the knowledge we have about conditional probabilities, compute and interpret the following probabilities:\n",
    "\n",
    "- $P(B \\mid A)$\n",
    "- $P(B' \\mid A)$\n",
    "- $P(A \\mid B)$\n",
    "- $P(A' \\mid B)$\n"
   ]
  },
  {
   "cell_type": "code",
   "execution_count": 10,
   "metadata": {},
   "outputs": [
    {
     "name": "stdout",
     "output_type": "stream",
     "text": [
      "P(B | A): 0.5\n",
      "P(B' | A): 0.5\n",
      "P(A | B): 0.625\n",
      "P(A' | B): 0.37500000000000006\n"
     ]
    }
   ],
   "source": [
    "# Your code here\n",
    "# Given probabilities\n",
    "P_A = 0.5  # P(A)\n",
    "P_B = 0.4  # P(B)\n",
    "P_A_and_B = 0.25  # P(A ∩ B)\n",
    "\n",
    "# Conditional probabilities\n",
    "# P(B | A) = P(A ∩ B) / P(A)\n",
    "P_B_given_A = P_A_and_B / P_A\n",
    "\n",
    "# P(B') = 1 - P(B)\n",
    "P_B_not = 1 - P_B\n",
    "\n",
    "# P(B' | A) = P(A) - P(A ∩ B) / P(A)\n",
    "P_B_not_given_A = (P_A - P_A_and_B) / P_A\n",
    "\n",
    "# P(A | B) = P(A ∩ B) / P(B)\n",
    "P_A_given_B = P_A_and_B / P_B\n",
    "\n",
    "# P(A') = 1 - P(A)\n",
    "P_A_not = 1 - P_A\n",
    "\n",
    "# P(A' | B) = P(B) - P(A ∩ B) / P(B)\n",
    "P_A_not_given_B = (P_B - P_A_and_B) / P_B\n",
    "\n",
    "# Output results\n",
    "print(f\"P(B | A): {P_B_given_A}\")\n",
    "print(f\"P(B' | A): {P_B_not_given_A}\")\n",
    "print(f\"P(A | B): {P_A_given_B}\")\n",
    "print(f\"P(A' | B): {P_A_not_given_B}\")\n"
   ]
  },
  {
   "cell_type": "markdown",
   "metadata": {},
   "source": [
    "## Summary \n",
    "\n",
    "In this lab, you practiced conditional probability and its theorem with some simple problems. The key takeaway from this lab is to be able to identify random events as dependent or independent and calculating the probability of their occurrence using appropriate methods. Next, you'll learn about some more conditional probability axioms, building on the knowledge we have so far. "
   ]
  }
 ],
 "metadata": {
  "kernelspec": {
   "display_name": "Python 3",
   "language": "python",
   "name": "python3"
  },
  "language_info": {
   "codemirror_mode": {
    "name": "ipython",
    "version": 3
   },
   "file_extension": ".py",
   "mimetype": "text/x-python",
   "name": "python",
   "nbconvert_exporter": "python",
   "pygments_lexer": "ipython3",
   "version": "3.8.5"
  },
  "toc": {
   "base_numbering": 1,
   "nav_menu": {},
   "number_sections": true,
   "sideBar": true,
   "skip_h1_title": false,
   "title_cell": "Table of Contents",
   "title_sidebar": "Contents",
   "toc_cell": false,
   "toc_position": {},
   "toc_section_display": true,
   "toc_window_display": false
  }
 },
 "nbformat": 4,
 "nbformat_minor": 2
}
